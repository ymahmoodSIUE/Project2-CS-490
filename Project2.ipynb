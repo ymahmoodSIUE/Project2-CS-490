{
 "cells": [
  {
   "cell_type": "code",
   "execution_count": 1750,
   "metadata": {},
   "outputs": [
    {
     "data": {
      "text/plain": [
       "device(type='cpu')"
      ]
     },
     "execution_count": 1750,
     "metadata": {},
     "output_type": "execute_result"
    }
   ],
   "source": [
    "device=torch.device('cuda' if torch.cuda.is_available() else 'cpu')\n",
    "device"
   ]
  },
  {
   "cell_type": "code",
   "execution_count": 1751,
   "metadata": {},
   "outputs": [],
   "source": [
    "import torch\n",
    "import torchvision\n",
    "import torchvision.datasets as datasets\n",
    "import torchvision.transforms as transforms\n",
    "import torch.optim as optim\n",
    "import torch.nn as nn\n",
    "import torch.nn.functional as F\n",
    "from torch.utils.data import Dataset, DataLoader\n",
    "#import matplotlib.pyplot as plt\n",
    "import numpy as np"
   ]
  },
  {
   "cell_type": "code",
   "execution_count": 1752,
   "metadata": {},
   "outputs": [],
   "source": [
    "class AlexNet(torch.nn.Module):\n",
    "  def __init__(self):\n",
    "    super(AlexNet, self).__init__()\n",
    "    self.conv1 = torch.nn.Conv1d(4, 6, kernel_size=4) \n",
    "    self.pool = torch.nn.MaxPool1d(kernel_size=2, stride=2)  \n",
    "    self.conv2 = torch.nn.Conv1d(6, 16, kernel_size=3)  \n",
    "    self.fc1 = torch.nn.Linear(376 * 2, 4096)  \n",
    "    self.fc2 = torch.nn.Linear(4096, 4096) \n",
    "\n",
    "  def forward(self, x):\n",
    "    x = self.pool(torch.nn.functional.relu(self.conv1(x)))  \n",
    "    x = self.pool(torch.nn.functional.relu(self.conv2(x)))\n",
    "    x = x.transpose(1, 2)\n",
    "    x = torch.flatten(x, 1) \n",
    "    x = F.relu(self.fc1(x))\n",
    "    x = F.dropout(x, 0.5)\n",
    "    x = F.relu(self.fc2(x))\n",
    "    x = F.dropout(x, 0.5)\n",
    "    return x"
   ]
  },
  {
   "cell_type": "code",
   "execution_count": 1753,
   "metadata": {},
   "outputs": [],
   "source": [
    "# Generating random data\n",
    "\n",
    "train_data = np.load('trainout.npy')\n",
    "test_data = np.load('testout.npy')\n"
   ]
  },
  {
   "cell_type": "code",
   "execution_count": 1754,
   "metadata": {},
   "outputs": [],
   "source": [
    "# Converting the data to tensor type and floating point type\n",
    "\n",
    "tensor_train_data = tensor_train_data.view(tensor_train_data.size(0),4, -1)\n",
    "tensor_test_data = tensor_test_data.view(tensor_test_data.size(0),4, -1)\n"
   ]
  },
  {
   "cell_type": "code",
   "execution_count": 1755,
   "metadata": {},
   "outputs": [
    {
     "name": "stdout",
     "output_type": "stream",
     "text": [
      "torch.Size([348915, 4, 198])\n",
      "torch.float32\n",
      "torch.Size([93044, 4, 198])\n",
      "93044\n"
     ]
    }
   ],
   "source": [
    "print(tensor_train_data.shape)\n",
    "print(tensor_test_data.dtype)\n",
    "print(tensor_test_data.shape)\n",
    "print(len(tensor_data))\n"
   ]
  },
  {
   "cell_type": "code",
   "execution_count": 1756,
   "metadata": {},
   "outputs": [
    {
     "name": "stdout",
     "output_type": "stream",
     "text": [
      "int64\n",
      "torch.int64\n"
     ]
    }
   ],
   "source": [
    "\n",
    "# Creating random binary labels. and converting it to tensor\n",
    "\n",
    "label_test = np.random.choice([0, 1], size=len(tensor_test_data))\n",
    "label_train = np.random.choice([0, 1], size=len(tensor_train_data))\n",
    "\n",
    "print(label_train.dtype)\n",
    "label_test = torch.from_numpy(label_test)\n",
    "label_train = torch.from_numpy(label_train)\n",
    "print(label_test.dtype)\n",
    "\n",
    "labels = np.random.choice([0, 1], size=len(tensor_data))\n",
    "tensor_labels = torch.from_numpy(labels)\n",
    "\n",
    "train_labels = np.random.choice([0, 1], size=len(tensor_train_data))\n",
    "tensor_train_labels = torch.from_numpy(train_labels)\n"
   ]
  },
  {
   "cell_type": "code",
   "execution_count": 1757,
   "metadata": {},
   "outputs": [],
   "source": [
    "# The most important class, a custom data loader, understand how it is working.\n",
    "\n",
    "class data_class(Dataset):\n",
    "    def __init__(self,data,labels):\n",
    "        self.data=data\n",
    "        self.labels = labels\n",
    "\n",
    "    def __len__(self):\n",
    "        return len(self.data)\n",
    "    \n",
    "    def __getitem__(self,id):\n",
    "        data1 = self.data[id]\n",
    "        label1 = self.labels[id]\n",
    "\n",
    "        return data1, label1\n",
    "\n",
    "class train_class(Dataset):\n",
    "    def __init__(self,data,labels):\n",
    "        self.data=data\n",
    "        self.labels = labels\n",
    "\n",
    "    def __len__(self):\n",
    "        return len(self.data)\n",
    "    \n",
    "    def __getitem__(self,id):\n",
    "        data2 = self.data[id]\n",
    "        label2 = self.labels[id]\n",
    "\n",
    "        return data2, label2"
   ]
  },
  {
   "cell_type": "code",
   "execution_count": 1758,
   "metadata": {},
   "outputs": [],
   "source": [
    "# calling the data_class for the raw random data\n",
    "\n",
    "train_data=data_class(tensor_train_data,label_train)\n",
    "test_data=data_class(tensor_test_data,label_test)\n",
    "dataset = data_class(tensor_data, tensor_labels)"
   ]
  },
  {
   "cell_type": "code",
   "execution_count": 1759,
   "metadata": {},
   "outputs": [],
   "source": [
    "# Creating the data loader which is going to load the data to the AI model\n",
    "\n",
    "train_dataloader=DataLoader(train_data,batch_size=2,shuffle=True)\n",
    "test_dataloader=DataLoader(test_data,batch_size=2,shuffle=True)\n"
   ]
  },
  {
   "cell_type": "code",
   "execution_count": 1760,
   "metadata": {},
   "outputs": [],
   "source": [
    "# Instantiating the model and assigning an optimizer to the model and creating a loss function\n",
    "\n",
    "model=AlexNet().to(device)\n",
    "optimizer=optim.Adam(params=model.parameters(),lr=0.0001)\n",
    "loss_fn = nn.CrossEntropyLoss()\n",
    "\n"
   ]
  },
  {
   "cell_type": "code",
   "execution_count": null,
   "metadata": {},
   "outputs": [],
   "source": [
    "\n",
    "    "
   ]
  },
  {
   "cell_type": "code",
   "execution_count": 1761,
   "metadata": {},
   "outputs": [],
   "source": [
    "def train(model,device,train_dataloader,optimizer,epochs):\n",
    "    print(\"inside train\")\n",
    "    model.train()\n",
    "    for batch_ids, (img, classes) in enumerate(train_dataloader):\n",
    "        classes=classes.type(torch.LongTensor)\n",
    "        img,classes=img.to(device),classes.to(device)\n",
    "        torch.autograd.set_detect_anomaly(True)     \n",
    "        optimizer.zero_grad()\n",
    "        output=model(img)\n",
    "        loss = loss_fn(output,classes)                \n",
    "        \n",
    "        loss.backward()\n",
    "        optimizer.step()\n",
    "    if(batch_ids +1) % 2 == 0:\n",
    "        print(\"Train Epoch: {} [{}/{} ({:.0f}%)]\\tLoss: {:.6f}\".format(\n",
    "            epochs, batch_ids* len(img), len(train_dataloader.dataset),\n",
    "            100.*batch_ids / len(train_dataloader),loss.item()))"
   ]
  },
  {
   "cell_type": "code",
   "execution_count": 1762,
   "metadata": {},
   "outputs": [],
   "source": [
    "def test(model, device, test_dataloader):\n",
    "    model.eval()\n",
    "    test_loss=0\n",
    "    correct=0\n",
    "    with torch.no_grad():\n",
    "        for img,classes in test_dataloader:\n",
    "            img,classes=img.to(device), classes.to(device)\n",
    "            y_hat=model(img)\n",
    "            test_loss+=F.nll_loss(y_hat,classes,reduction='sum').item()\n",
    "            _,y_pred=torch.max(y_hat,1)\n",
    "            correct+=(y_pred==classes).sum().item()\n",
    "        test_loss/=len(test_dataloader)\n",
    "        print(\"\\n Test set: Avarage loss: {:.0f},Accuracy:{}/{} ({:.0f}%)\\n\".format(\n",
    "            test_loss,correct,len(test_dataloader),100.*correct/len(test_dataloader)))\n",
    "        print('='*30)"
   ]
  },
  {
   "cell_type": "code",
   "execution_count": null,
   "metadata": {},
   "outputs": [
    {
     "name": "stdout",
     "output_type": "stream",
     "text": [
      "inside train\n"
     ]
    }
   ],
   "source": [
    "# WE ARE USING RANDOM DATA SO THE TRAINING AND TESTING DOES NOT MATTER, THE AIM IS TO SHOWCASE THE USE OF A CUSTOM DATASET\n",
    "# SINCE IN PRACTICAL SENSE YOU HAVE TO CLEAN THE DATA AND LOAD THE DATA INTO THE MODEL.\n",
    "\n",
    "\n",
    "if __name__=='__main__':\n",
    "    seed=42\n",
    "    EPOCHS=2\n",
    "    \n",
    "    for epoch in range(1,EPOCHS+1):\n",
    "        train(model,device,train_dataloader,optimizer,epoch)\n",
    "        test(model,device,test_dataloader)"
   ]
  },
  {
   "cell_type": "code",
   "execution_count": null,
   "metadata": {},
   "outputs": [],
   "source": []
  },
  {
   "cell_type": "code",
   "execution_count": null,
   "metadata": {},
   "outputs": [],
   "source": []
  },
  {
   "cell_type": "code",
   "execution_count": null,
   "metadata": {},
   "outputs": [],
   "source": []
  },
  {
   "cell_type": "code",
   "execution_count": null,
   "metadata": {},
   "outputs": [],
   "source": []
  }
 ],
 "metadata": {
  "kernelspec": {
   "display_name": "Python 3 (ipykernel)",
   "language": "python",
   "name": "python3"
  },
  "language_info": {
   "codemirror_mode": {
    "name": "ipython",
    "version": 3
   },
   "file_extension": ".py",
   "mimetype": "text/x-python",
   "name": "python",
   "nbconvert_exporter": "python",
   "pygments_lexer": "ipython3",
   "version": "3.9.19"
  }
 },
 "nbformat": 4,
 "nbformat_minor": 2
}
